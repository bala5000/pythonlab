{
  "nbformat": 4,
  "nbformat_minor": 0,
  "metadata": {
    "colab": {
      "name": "09/10/2021.ipynb",
      "provenance": [],
      "collapsed_sections": [],
      "authorship_tag": "ABX9TyMXEABhGEAXh0AmPEeU7ItE",
      "include_colab_link": true
    },
    "kernelspec": {
      "name": "python3",
      "display_name": "Python 3"
    },
    "language_info": {
      "name": "python"
    }
  },
  "cells": [
    {
      "cell_type": "markdown",
      "metadata": {
        "id": "view-in-github",
        "colab_type": "text"
      },
      "source": [
        "<a href=\"https://colab.research.google.com/github/bala5000/pythonlab/blob/main/09_10_2021.ipynb\" target=\"_parent\"><img src=\"https://colab.research.google.com/assets/colab-badge.svg\" alt=\"Open In Colab\"/></a>"
      ]
    },
    {
      "cell_type": "code",
      "execution_count": 5,
      "metadata": {
        "colab": {
          "base_uri": "https://localhost:8080/"
        },
        "id": "a2MUMlYJ_y-b",
        "outputId": "75729d37-09d9-4711-fd1e-7f56be542c6f"
      },
      "outputs": [
        {
          "output_type": "stream",
          "name": "stdout",
          "text": [
            "{'fruits': {'Fruit1': 'pineapple', 'Fruit2': 'apple', 'Fruit3': 'orange'}, 'vegetables': {'veg1': 'carrot', 'veg2': 'potato', 'veg3': 'brinjal'}}\n"
          ]
        }
      ],
      "source": [
        "fruits={\n",
        "    \"Fruit1\": \"pineapple\",\n",
        "    \"Fruit2\": \"apple\",\n",
        "    \"Fruit3\": \"orange\"\n",
        "    }\n",
        "vegetables={\n",
        "    \"veg1\": \"carrot\",\n",
        "    \"veg2\": \"potato\",\n",
        "    \"veg3\": \"brinjal\"\n",
        "   }\n",
        "cart={\n",
        "    \"fruits\": fruits,\n",
        "    \"vegetables\": vegetables\n",
        "}\n",
        "print(cart)"
      ]
    },
    {
      "cell_type": "code",
      "source": [
        "import pandas as pd\n",
        "print(pd.__version__)"
      ],
      "metadata": {
        "colab": {
          "base_uri": "https://localhost:8080/"
        },
        "id": "U071FerXF9Vu",
        "outputId": "19464557-7b69-4aad-9557-1b8fe7d319f7"
      },
      "execution_count": 7,
      "outputs": [
        {
          "output_type": "stream",
          "name": "stdout",
          "text": [
            "1.1.5\n"
          ]
        }
      ]
    },
    {
      "cell_type": "code",
      "source": [
        "import pandas as pd\n",
        "\n",
        "calories = {\"day1\": 420, \"day2\": 380, \"day3\": 390}\n",
        "\n",
        "myvar = pd.Series(calories)\n",
        "\n",
        "print(myvar)"
      ],
      "metadata": {
        "colab": {
          "base_uri": "https://localhost:8080/"
        },
        "id": "Ih0zB8ECHeng",
        "outputId": "19f0acea-7e91-4abb-fd2b-cc57ff6ef6dc"
      },
      "execution_count": 15,
      "outputs": [
        {
          "output_type": "stream",
          "name": "stdout",
          "text": [
            "day1    420\n",
            "day2    380\n",
            "day3    390\n",
            "dtype: int64\n"
          ]
        }
      ]
    },
    {
      "cell_type": "code",
      "source": [
        ""
      ],
      "metadata": {
        "id": "_CpLhpOfP5sX"
      },
      "execution_count": null,
      "outputs": []
    }
  ]
}