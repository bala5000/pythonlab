{
  "nbformat": 4,
  "nbformat_minor": 0,
  "metadata": {
    "colab": {
      "name": "08/12/2021.ipynb",
      "provenance": [],
      "authorship_tag": "ABX9TyNfEx/wR3o3yleekADqK4g5",
      "include_colab_link": true
    },
    "kernelspec": {
      "name": "python3",
      "display_name": "Python 3"
    },
    "language_info": {
      "name": "python"
    }
  },
  "cells": [
    {
      "cell_type": "markdown",
      "metadata": {
        "id": "view-in-github",
        "colab_type": "text"
      },
      "source": [
        "<a href=\"https://colab.research.google.com/github/bala5000/pythonlab/blob/main/08_12_2021.ipynb\" target=\"_parent\"><img src=\"https://colab.research.google.com/assets/colab-badge.svg\" alt=\"Open In Colab\"/></a>"
      ]
    },
    {
      "cell_type": "code",
      "execution_count": null,
      "metadata": {
        "colab": {
          "base_uri": "https://localhost:8080/"
        },
        "id": "heNnEdaa8mzR",
        "outputId": "cfb60ef3-0432-4e3f-cbd8-863dbcf56e29"
      },
      "outputs": [
        {
          "output_type": "stream",
          "name": "stdout",
          "text": [
            "['a', 'b', 'c', 'd', 'e']\n"
          ]
        }
      ],
      "source": [
        "list3=[\"a\",\"b\",\"c\",\"d\"]\n",
        "list3.append(\"e\")\n",
        "print(list3)"
      ]
    },
    {
      "cell_type": "code",
      "source": [
        "list2=[\"a\",\"b\",\"d\",\"e\"]\n",
        "list2.insert(2,\"c\")\n",
        "print(list2)"
      ],
      "metadata": {
        "colab": {
          "base_uri": "https://localhost:8080/"
        },
        "id": "cl73-Pir9KUH",
        "outputId": "8d757b73-1ecb-4dba-bb34-f8d7a033c0a5"
      },
      "execution_count": null,
      "outputs": [
        {
          "output_type": "stream",
          "name": "stdout",
          "text": [
            "['a', 'b', 'c', 'd', 'e']\n"
          ]
        }
      ]
    },
    {
      "cell_type": "code",
      "source": [
        "list1=[\"a\",\"b\",\"c\",\"d\",\"e\"]\n",
        "list1.remove(\"d\")\n",
        "print(list1)"
      ],
      "metadata": {
        "id": "rzo7YDkh9eE2"
      },
      "execution_count": null,
      "outputs": []
    },
    {
      "cell_type": "code",
      "source": [
        "list5=[\"a\",\"b\",\"c\"]\n",
        "[print(x) for x in list5]"
      ],
      "metadata": {
        "colab": {
          "base_uri": "https://localhost:8080/"
        },
        "id": "u5uEHGyD_93z",
        "outputId": "9ee01ffe-50a5-49cc-da13-0cacbdf796ef"
      },
      "execution_count": 17,
      "outputs": [
        {
          "output_type": "stream",
          "name": "stdout",
          "text": [
            "a\n",
            "b\n",
            "c\n"
          ]
        },
        {
          "output_type": "execute_result",
          "data": {
            "text/plain": [
              "[None, None, None]"
            ]
          },
          "metadata": {},
          "execution_count": 17
        }
      ]
    },
    {
      "cell_type": "code",
      "source": [
        "list6=[\"h\",\"k\",\"l\"]\n",
        "print"
      ],
      "metadata": {
        "id": "CZQLULu9CejC"
      },
      "execution_count": null,
      "outputs": []
    },
    {
      "cell_type": "code",
      "source": [
        "list0=[\"a\",\"b\",\"c\",\"d\",\"e\"]\n",
        "del list0"
      ],
      "metadata": {
        "id": "3OPHaDaK9sBX"
      },
      "execution_count": 20,
      "outputs": []
    },
    {
      "cell_type": "code",
      "source": [
        "list4=[\"a\",\"b\",\"c\",\"d\",\"e\"]\n",
        "list4.remove(\"a\")\n",
        "print(list4)"
      ],
      "metadata": {
        "id": "g36Nig6t-TuS",
        "colab": {
          "base_uri": "https://localhost:8080/"
        },
        "outputId": "110c1214-5cfb-4d28-8798-269835c9e381"
      },
      "execution_count": 22,
      "outputs": [
        {
          "output_type": "stream",
          "name": "stdout",
          "text": [
            "['b', 'c', 'd', 'e']\n"
          ]
        }
      ]
    }
  ]
}