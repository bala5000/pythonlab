{
  "nbformat": 4,
  "nbformat_minor": 0,
  "metadata": {
    "colab": {
      "name": "07/12/2021.ipynd",
      "provenance": [],
      "authorship_tag": "ABX9TyN8v0ECNFJIxpR3VX8Ej1vW",
      "include_colab_link": true
    },
    "kernelspec": {
      "name": "python3",
      "display_name": "Python 3"
    },
    "language_info": {
      "name": "python"
    }
  },
  "cells": [
    {
      "cell_type": "markdown",
      "metadata": {
        "id": "view-in-github",
        "colab_type": "text"
      },
      "source": [
        "<a href=\"https://colab.research.google.com/github/bala5000/pythonlab/blob/main/07_12_2021_ipynd.ipynb\" target=\"_parent\"><img src=\"https://colab.research.google.com/assets/colab-badge.svg\" alt=\"Open In Colab\"/></a>"
      ]
    },
    {
      "cell_type": "code",
      "metadata": {
        "colab": {
          "base_uri": "https://localhost:8080/"
        },
        "id": "iwQI7UKo1sM3",
        "outputId": "5845a5d5-8d5f-4a06-8ef3-4fcefa1e1a1a"
      },
      "source": [
        "c2=complex(5,7)\n",
        "print(c2)"
      ],
      "execution_count": 1,
      "outputs": [
        {
          "output_type": "stream",
          "name": "stdout",
          "text": [
            "(5+6j)\n"
          ]
        }
      ]
    },
    {
      "cell_type": "code",
      "metadata": {
        "colab": {
          "base_uri": "https://localhost:8080/"
        },
        "id": "XOVvQbqV2UXU",
        "outputId": "36c639ae-e969-4ad3-eb97-8bec4bc115fb"
      },
      "source": [
        "c1=3+4j\n",
        "print(c1)"
      ],
      "execution_count": 3,
      "outputs": [
        {
          "output_type": "stream",
          "name": "stdout",
          "text": [
            "(3+4j)\n"
          ]
        }
      ]
    },
    {
      "cell_type": "code",
      "metadata": {
        "colab": {
          "base_uri": "https://localhost:8080/"
        },
        "id": "lqW101_D274s",
        "outputId": "ae58c05c-5ef1-45e3-c2a6-f1fb7cae997c"
      },
      "source": [
        "print(c1+c2)"
      ],
      "execution_count": 5,
      "outputs": [
        {
          "output_type": "stream",
          "name": "stdout",
          "text": [
            "(8+10j)\n"
          ]
        }
      ]
    },
    {
      "cell_type": "code",
      "metadata": {
        "colab": {
          "base_uri": "https://localhost:8080/"
        },
        "id": "kOSFZQzD277c",
        "outputId": "f93e1e2c-3841-49eb-b9dd-188268e6a1b0"
      },
      "source": [
        "print(123456789123456789+1)"
      ],
      "execution_count": 7,
      "outputs": [
        {
          "output_type": "stream",
          "name": "stdout",
          "text": [
            "123456789123456790\n"
          ]
        }
      ]
    },
    {
      "cell_type": "code",
      "metadata": {
        "colab": {
          "base_uri": "https://localhost:8080/"
        },
        "id": "zWZ8IkMD27-7",
        "outputId": "7b687daa-428e-4b67-8c1f-ca178431375e"
      },
      "source": [
        "f1=1.235465656565656 #after decimal point we can use 15 digits\n",
        "print(f1)"
      ],
      "execution_count": 8,
      "outputs": [
        {
          "output_type": "stream",
          "name": "stdout",
          "text": [
            "1.235465656565656\n"
          ]
        }
      ]
    },
    {
      "cell_type": "code",
      "metadata": {
        "colab": {
          "base_uri": "https://localhost:8080/"
        },
        "id": "FgqmDuaA3zxW",
        "outputId": "d697006e-3a5d-42a0-9fa3-68054e9ddfe2"
      },
      "source": [
        "a=[1,1,\"India\",9.99]\n",
        "print(a)#similar to the java concept vectors heterogenous datatypes given in list"
      ],
      "execution_count": 11,
      "outputs": [
        {
          "output_type": "stream",
          "name": "stdout",
          "text": [
            "[1, 1, 'India', 9.99]\n"
          ]
        }
      ]
    },
    {
      "cell_type": "code",
      "metadata": {
        "colab": {
          "base_uri": "https://localhost:8080/"
        },
        "id": "eNIas61h3zzx",
        "outputId": "d00e5ecb-62e2-4609-bcd6-1dc293cd375d"
      },
      "source": [
        "#tuple is immutable list and tuples main role i\"n dataframe famous lib in python panda\n",
        "print(t)"
      ],
      "execution_count": 15,
      "outputs": [
        {
          "output_type": "stream",
          "name": "stdout",
          "text": [
            "(1, 1, 'India')\n"
          ]
        }
      ]
    },
    {
      "cell_type": "code",
      "metadata": {
        "colab": {
          "base_uri": "https://localhost:8080/"
        },
        "id": "uXrKpCAq3z3W",
        "outputId": "29023493-be9e-4936-e3ae-e077675a050f"
      },
      "source": [
        "#collection of unique item that are set\n",
        "s={3,3,3,3,4,4,4,4,4}\n",
        "print(s)#to remove repeated datatype"
      ],
      "execution_count": 16,
      "outputs": [
        {
          "output_type": "stream",
          "name": "stdout",
          "text": [
            "{3, 4}\n"
          ]
        }
      ]
    },
    {
      "cell_type": "code",
      "metadata": {
        "colab": {
          "base_uri": "https://localhost:8080/"
        },
        "id": "1P-w1iKc30FU",
        "outputId": "9b644e21-224d-41fd-b483-1e0450e661c2"
      },
      "source": [
        "#convenient in sql data uesers retreiving data \n",
        "d={3:'key',4:'value'}\n",
        "print(d)"
      ],
      "execution_count": 19,
      "outputs": [
        {
          "output_type": "stream",
          "name": "stdout",
          "text": [
            "{3: 'key', 4: 'value'}\n"
          ]
        }
      ]
    },
    {
      "cell_type": "code",
      "metadata": {
        "id": "Ttgxnojv6316"
      },
      "source": [
        "#boolean True False are constants not 0's and 1's"
      ],
      "execution_count": null,
      "outputs": []
    },
    {
      "cell_type": "code",
      "metadata": {
        "id": "rerG0MtQ635Z"
      },
      "source": [
        ""
      ],
      "execution_count": null,
      "outputs": []
    },
    {
      "cell_type": "code",
      "metadata": {
        "id": "8PNH72Uf642M"
      },
      "source": [
        ""
      ],
      "execution_count": null,
      "outputs": []
    }
  ]
}